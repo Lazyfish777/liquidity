{
 "cells": [
  {
   "cell_type": "code",
   "execution_count": 2,
   "metadata": {},
   "outputs": [
    {
     "ename": "SyntaxError",
     "evalue": "invalid syntax (__init__.py, line 1187)",
     "output_type": "error",
     "traceback": [
      "Traceback \u001b[1;36m(most recent call last)\u001b[0m:\n",
      "  File \u001b[0;32m\"c:\\users\\asus\\appdata\\local\\programs\\python\\python37\\lib\\site-packages\\IPython\\core\\interactiveshell.py\"\u001b[0m, line \u001b[0;32m3417\u001b[0m, in \u001b[0;35mrun_code\u001b[0m\n    exec(code_obj, self.user_global_ns, self.user_ns)\n",
      "\u001b[1;36m  File \u001b[1;32m\"<ipython-input-2-7b5d3337c418>\"\u001b[1;36m, line \u001b[1;32m1\u001b[1;36m, in \u001b[1;35m<module>\u001b[1;36m\u001b[0m\n\u001b[1;33m    import xlrd\u001b[0m\n",
      "\u001b[1;36m  File \u001b[1;32m\"c:\\users\\asus\\appdata\\local\\programs\\python\\python37\\lib\\site-packages\\xlrd\\__init__.py\"\u001b[1;36m, line \u001b[1;32m1187\u001b[0m\n\u001b[1;33m    print \"EXTERNSHEET(b7-):\"\u001b[0m\n\u001b[1;37m                            ^\u001b[0m\n\u001b[1;31mSyntaxError\u001b[0m\u001b[1;31m:\u001b[0m invalid syntax\n"
     ]
    }
   ],
   "source": [
    "import xlrd\n",
    "import pandas as pd\n",
    "from pandas import DataFrame\n",
    "\n",
    "name='tuimian.xlsx'\n",
    "wb = xlrd.open_workbook(name)\n",
    "sheets = wb.sheet_names()\n",
    "df_95 = DataFrame()\n",
    "for i in range(len(sheets)):\n",
    "\n",
    "    # skiprows=2 忽略前两行\n",
    "    df = pd.read_excel(name, sheet_name=i, skiprows=2, index=False, encoding='utf8')\n",
    "    df_95 = df_28.append(df)"
   ]
  },
  {
   "cell_type": "code",
   "execution_count": 18,
   "metadata": {},
   "outputs": [
    {
     "data": {
      "text/html": [
       "<div>\n",
       "<style scoped>\n",
       "    .dataframe tbody tr th:only-of-type {\n",
       "        vertical-align: middle;\n",
       "    }\n",
       "\n",
       "    .dataframe tbody tr th {\n",
       "        vertical-align: top;\n",
       "    }\n",
       "\n",
       "    .dataframe thead th {\n",
       "        text-align: right;\n",
       "    }\n",
       "</style>\n",
       "<table border=\"1\" class=\"dataframe\">\n",
       "  <thead>\n",
       "    <tr style=\"text-align: right;\">\n",
       "      <th></th>\n",
       "      <th>学院名称</th>\n",
       "      <th>专业代码</th>\n",
       "      <th>专业名称</th>\n",
       "      <th>姓名</th>\n",
       "      <th>性别</th>\n",
       "      <th>推荐类型</th>\n",
       "      <th>定向补偿单位名称</th>\n",
       "    </tr>\n",
       "  </thead>\n",
       "  <tbody>\n",
       "    <tr>\n",
       "      <th>0</th>\n",
       "      <td>材料科学与工程学院</td>\n",
       "      <td>80405</td>\n",
       "      <td>金属材料工程</td>\n",
       "      <td>杨艾霖</td>\n",
       "      <td>女</td>\n",
       "      <td>0-普通</td>\n",
       "      <td>0</td>\n",
       "    </tr>\n",
       "    <tr>\n",
       "      <th>1</th>\n",
       "      <td>材料科学与工程学院</td>\n",
       "      <td>80405</td>\n",
       "      <td>金属材料工程</td>\n",
       "      <td>王小强</td>\n",
       "      <td>男</td>\n",
       "      <td>0-普通</td>\n",
       "      <td>0</td>\n",
       "    </tr>\n",
       "    <tr>\n",
       "      <th>2</th>\n",
       "      <td>材料科学与工程学院</td>\n",
       "      <td>80406</td>\n",
       "      <td>无机非金属材料工程</td>\n",
       "      <td>徐利</td>\n",
       "      <td>女</td>\n",
       "      <td>0-普通</td>\n",
       "      <td>0</td>\n",
       "    </tr>\n",
       "    <tr>\n",
       "      <th>3</th>\n",
       "      <td>材料科学与工程学院</td>\n",
       "      <td>80406</td>\n",
       "      <td>无机非金属材料工程</td>\n",
       "      <td>高雨莎</td>\n",
       "      <td>女</td>\n",
       "      <td>0-普通</td>\n",
       "      <td>0</td>\n",
       "    </tr>\n",
       "    <tr>\n",
       "      <th>4</th>\n",
       "      <td>材料科学与工程学院</td>\n",
       "      <td>80406</td>\n",
       "      <td>无机非金属材料工程</td>\n",
       "      <td>贺宇霏</td>\n",
       "      <td>女</td>\n",
       "      <td>0-普通</td>\n",
       "      <td>0</td>\n",
       "    </tr>\n",
       "  </tbody>\n",
       "</table>\n",
       "</div>"
      ],
      "text/plain": [
       "        学院名称   专业代码       专业名称   姓名 性别  推荐类型 定向补偿单位名称\n",
       "0  材料科学与工程学院  80405     金属材料工程  杨艾霖  女  0-普通        0\n",
       "1  材料科学与工程学院  80405     金属材料工程  王小强  男  0-普通        0\n",
       "2  材料科学与工程学院  80406  无机非金属材料工程   徐利  女  0-普通        0\n",
       "3  材料科学与工程学院  80406  无机非金属材料工程  高雨莎  女  0-普通        0\n",
       "4  材料科学与工程学院  80406  无机非金属材料工程  贺宇霏  女  0-普通        0"
      ]
     },
     "execution_count": 18,
     "metadata": {},
     "output_type": "execute_result"
    }
   ],
   "source": [
    "import xlrd\n",
    "import pandas as pd\n",
    "from pandas import DataFrame\n",
    "\n",
    "excel_name = 'tuimian.xlsx'\n",
    "wb = xlrd.open_workbook(excel_name)\n",
    "# print(wb)\n",
    " \n",
    "# 获取workbook中所有的表格\n",
    "sheets = wb.sheet_names()\n",
    "# print(sheets)\n",
    " \n",
    "# 循环遍历所有sheet\n",
    "df_28 = DataFrame()\n",
    "for i in range(len(sheets)-1):\n",
    "    # skiprows=2 忽略前两行\n",
    "    df = pd.read_excel(excel_name, sheet_name=i+1)\n",
    "    df_28 = df_28.append(df)\n",
    "# 去除缺省值\n",
    "df_28.head()\n"
   ]
  },
  {
   "cell_type": "code",
   "execution_count": 11,
   "metadata": {},
   "outputs": [
    {
     "name": "stdout",
     "output_type": "stream",
     "text": [
      "<xlrd.book.Book object at 0x0000025555E37A48>\n"
     ]
    }
   ],
   "source": [
    "excel_name = 'tuimian.xlsx'\n",
    "wb=xlrd.open_workbook(excel_name)\n",
    "print(wb)"
   ]
  },
  {
   "cell_type": "code",
   "execution_count": 13,
   "metadata": {},
   "outputs": [],
   "source": [
    "sheets = wb.sheet_names()"
   ]
  },
  {
   "cell_type": "code",
   "execution_count": 14,
   "metadata": {},
   "outputs": [
    {
     "name": "stdout",
     "output_type": "stream",
     "text": [
      "['Table 1', 'Table 2', 'Table 3', 'Table 4', 'Table 5', 'Table 6', 'Table 7', 'Table 8', 'Table 9', 'Table 10', 'Table 11', 'Table 12', 'Table 13', 'Table 14', 'Table 15', 'Table 16', 'Table 17', 'Table 18', 'Table 19', 'Table 20', 'Table 21', 'Table 22', 'Table 23', 'Table 24', 'Table 25', 'Table 26', 'Table 27', 'Table 28', 'Table 29', 'Table 30', 'Table 31', 'Table 32', 'Table 33', 'Table 34', 'Table 35', 'Table 36', 'Table 37', 'Table 38', 'Table 39', 'Table 40', 'Table 41', 'Table 42', 'Table 43', 'Table 44', 'Table 45', 'Table 46', 'Table 47', 'Table 48', 'Table 49', 'Table 50', 'Table 51', 'Table 52', 'Table 53', 'Table 54', 'Table 55', 'Table 56', 'Table 57', 'Table 58', 'Table 59', 'Table 60', 'Table 61', 'Table 62', 'Table 63', 'Table 64', 'Table 65', 'Table 66', 'Table 67', 'Table 68', 'Table 69', 'Table 70', 'Table 71', 'Table 72', 'Table 73', 'Table 74', 'Table 75', 'Table 76', 'Table 77', 'Table 78', 'Table 79', 'Table 80', 'Table 81', 'Table 82', 'Table 83', 'Table 84', 'Table 85', 'Table 86', 'Table 87', 'Table 88', 'Table 89', 'Table 90', 'Table 91', 'Table 92', 'Table 93', 'Table 94', 'Table 95']\n"
     ]
    }
   ],
   "source": [
    "print(sheets)"
   ]
  },
  {
   "cell_type": "code",
   "execution_count": 20,
   "metadata": {},
   "outputs": [
    {
     "name": "stdout",
     "output_type": "stream",
     "text": [
      "         学院名称     专业代码               专业名称   姓名 性别   推荐类型 定向补偿单位名称\n",
      "0   材料科学与工程学院    80405             金属材料工程  杨艾霖  女   0-普通        0\n",
      "1   材料科学与工程学院    80405             金属材料工程  王小强  男   0-普通        0\n",
      "2   材料科学与工程学院    80406          无机非金属材料工程   徐利  女   0-普通        0\n",
      "3   材料科学与工程学院    80406          无机非金属材料工程  高雨莎  女   0-普通        0\n",
      "4   材料科学与工程学院    80406          无机非金属材料工程  贺宇霏  女   0-普通        0\n",
      "5   材料科学与工程学院    80406          无机非金属材料工程   廖菁  女   0-普通        0\n",
      "6   材料科学与工程学院    80406          无机非金属材料工程  任启源  男   0-普通        0\n",
      "7   材料科学与工程学院    80406          无机非金属材料工程  马宇歆  女   0-普通        0\n",
      "8   材料科学与工程学院  080414T           新能源材料与器件  高山峻  男   0-普通        0\n",
      "9   材料科学与工程学院  080414T           新能源材料与器件  付玉辰  男   0-普通        0\n",
      "10  材料科学与工程学院  080414T           新能源材料与器件  鲁航语  男   0-普通        0\n",
      "11  材料科学与工程学院  080414T           新能源材料与器件  黄远方  男   0-普通        0\n",
      "12  材料科学与工程学院  080414T           新能源材料与器件   吕威  男   0-普通        0\n",
      "13     电气工程学院    80601  电气工程及其自动化（卓越工程师班）  吴佳奇  男   0-普通        0\n",
      "14     电气工程学院    80601          电气工程及其自动化  李艾青  女   0-普通        0\n",
      "15     电气工程学院    80601          电气工程及其自动化  陈毅鹏  男   0-普通        0\n",
      "16     电气工程学院    80601          电气工程及其自动化  肖煜瑾  女  1-支教团     四川大学\n",
      "17     电气工程学院    80601          电气工程及其自动化  王伟淘  男   0-普通        0\n",
      "18     电气工程学院    80601  电气工程及其自动化（卓越工程师班）  陈铨艺  男   0-普通        0\n",
      "19     电气工程学院    80601          电气工程及其自动化  兰贵天  男   0-普通        0\n",
      "20     电气工程学院    80601          电气工程及其自动化  杨祺铭  男   0-普通        0\n",
      "21     电气工程学院    80601  电气工程及其自动化（卓越工程师班）  刘颖杰  男   0-普通        0\n"
     ]
    }
   ],
   "source": [
    "df_1 = pd.read_excel(excel_name, sheet_name = 1)\n",
    "print(df_1)"
   ]
  },
  {
   "cell_type": "code",
   "execution_count": 21,
   "metadata": {},
   "outputs": [],
   "source": [
    "df_final=df_1.append(df_28)"
   ]
  },
  {
   "cell_type": "code",
   "execution_count": 22,
   "metadata": {},
   "outputs": [
    {
     "data": {
      "text/html": [
       "<div>\n",
       "<style scoped>\n",
       "    .dataframe tbody tr th:only-of-type {\n",
       "        vertical-align: middle;\n",
       "    }\n",
       "\n",
       "    .dataframe tbody tr th {\n",
       "        vertical-align: top;\n",
       "    }\n",
       "\n",
       "    .dataframe thead th {\n",
       "        text-align: right;\n",
       "    }\n",
       "</style>\n",
       "<table border=\"1\" class=\"dataframe\">\n",
       "  <thead>\n",
       "    <tr style=\"text-align: right;\">\n",
       "      <th></th>\n",
       "      <th>学院名称</th>\n",
       "      <th>专业代码</th>\n",
       "      <th>专业名称</th>\n",
       "      <th>姓名</th>\n",
       "      <th>性别</th>\n",
       "      <th>推荐类型</th>\n",
       "      <th>定向补偿单位名称</th>\n",
       "    </tr>\n",
       "  </thead>\n",
       "  <tbody>\n",
       "    <tr>\n",
       "      <th>0</th>\n",
       "      <td>材料科学与工程学院</td>\n",
       "      <td>80405</td>\n",
       "      <td>金属材料工程</td>\n",
       "      <td>杨艾霖</td>\n",
       "      <td>女</td>\n",
       "      <td>0-普通</td>\n",
       "      <td>0</td>\n",
       "    </tr>\n",
       "    <tr>\n",
       "      <th>1</th>\n",
       "      <td>材料科学与工程学院</td>\n",
       "      <td>80405</td>\n",
       "      <td>金属材料工程</td>\n",
       "      <td>王小强</td>\n",
       "      <td>男</td>\n",
       "      <td>0-普通</td>\n",
       "      <td>0</td>\n",
       "    </tr>\n",
       "    <tr>\n",
       "      <th>2</th>\n",
       "      <td>材料科学与工程学院</td>\n",
       "      <td>80406</td>\n",
       "      <td>无机非金属材料工程</td>\n",
       "      <td>徐利</td>\n",
       "      <td>女</td>\n",
       "      <td>0-普通</td>\n",
       "      <td>0</td>\n",
       "    </tr>\n",
       "    <tr>\n",
       "      <th>3</th>\n",
       "      <td>材料科学与工程学院</td>\n",
       "      <td>80406</td>\n",
       "      <td>无机非金属材料工程</td>\n",
       "      <td>高雨莎</td>\n",
       "      <td>女</td>\n",
       "      <td>0-普通</td>\n",
       "      <td>0</td>\n",
       "    </tr>\n",
       "    <tr>\n",
       "      <th>4</th>\n",
       "      <td>材料科学与工程学院</td>\n",
       "      <td>80406</td>\n",
       "      <td>无机非金属材料工程</td>\n",
       "      <td>贺宇霏</td>\n",
       "      <td>女</td>\n",
       "      <td>0-普通</td>\n",
       "      <td>0</td>\n",
       "    </tr>\n",
       "  </tbody>\n",
       "</table>\n",
       "</div>"
      ],
      "text/plain": [
       "        学院名称   专业代码       专业名称   姓名 性别  推荐类型 定向补偿单位名称\n",
       "0  材料科学与工程学院  80405     金属材料工程  杨艾霖  女  0-普通        0\n",
       "1  材料科学与工程学院  80405     金属材料工程  王小强  男  0-普通        0\n",
       "2  材料科学与工程学院  80406  无机非金属材料工程   徐利  女  0-普通        0\n",
       "3  材料科学与工程学院  80406  无机非金属材料工程  高雨莎  女  0-普通        0\n",
       "4  材料科学与工程学院  80406  无机非金属材料工程  贺宇霏  女  0-普通        0"
      ]
     },
     "execution_count": 22,
     "metadata": {},
     "output_type": "execute_result"
    }
   ],
   "source": [
    "df_final.head()"
   ]
  },
  {
   "cell_type": "code",
   "execution_count": 24,
   "metadata": {},
   "outputs": [
    {
     "name": "stdout",
     "output_type": "stream",
     "text": [
      "         学院名称    专业代码       专业名称   姓名 性别  推荐类型 定向补偿单位名称\n",
      "0   材料科学与工程学院   80405     金属材料工程  杨艾霖  女  0-普通        0\n",
      "1   材料科学与工程学院   80405     金属材料工程  王小强  男  0-普通        0\n",
      "2   材料科学与工程学院   80406  无机非金属材料工程   徐利  女  0-普通        0\n",
      "3   材料科学与工程学院   80406  无机非金属材料工程  高雨莎  女  0-普通        0\n",
      "4   材料科学与工程学院   80406  无机非金属材料工程  贺宇霏  女  0-普通        0\n",
      "..        ...     ...        ...  ... ..   ...      ...\n",
      "21       艺术学院  130503       环境设计  王渃冰  女  0-普通        0\n",
      "0        艺术学院  130503       环境设计   冯婕  女  0-普通        0\n",
      "1        艺术学院  130503       环境设计  胡中远  男  0-普通        0\n",
      "2        艺术学院  130503       环境设计  韩欣雨  女  0-普通        0\n",
      "3        艺术学院  130503       环境设计  许佳祺  女  0-普通        0\n",
      "\n",
      "[2072 rows x 7 columns]\n"
     ]
    }
   ],
   "source": [
    "print(df_final)"
   ]
  },
  {
   "cell_type": "code",
   "execution_count": 25,
   "metadata": {},
   "outputs": [
    {
     "name": "stdout",
     "output_type": "stream",
     "text": [
      "0     杨艾霖\n",
      "1     王小强\n",
      "2      徐利\n",
      "3     高雨莎\n",
      "4     贺宇霏\n",
      "     ... \n",
      "21    王渃冰\n",
      "0      冯婕\n",
      "1     胡中远\n",
      "2     韩欣雨\n",
      "3     许佳祺\n",
      "Name: 姓名, Length: 2072, dtype: object\n"
     ]
    }
   ],
   "source": [
    "name_rows = df_final['姓名']\n",
    "print(name_rows)"
   ]
  },
  {
   "cell_type": "code",
   "execution_count": 29,
   "metadata": {},
   "outputs": [],
   "source": [
    "df_final.to_csv('tuimian.csv',encoding='utf-8_sig')"
   ]
  },
  {
   "cell_type": "code",
   "execution_count": null,
   "metadata": {},
   "outputs": [],
   "source": []
  }
 ],
 "metadata": {
  "kernelspec": {
   "display_name": "Python 3",
   "language": "python",
   "name": "python3"
  },
  "language_info": {
   "codemirror_mode": {
    "name": "ipython",
    "version": 3
   },
   "file_extension": ".py",
   "mimetype": "text/x-python",
   "name": "python",
   "nbconvert_exporter": "python",
   "pygments_lexer": "ipython3",
   "version": "3.7.8"
  }
 },
 "nbformat": 4,
 "nbformat_minor": 4
}
