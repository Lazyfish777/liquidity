{
 "cells": [
  {
   "cell_type": "code",
   "execution_count": 30,
   "metadata": {},
   "outputs": [],
   "source": [
    "# %load gundong_class_tensor.py\n",
    "'''\n",
    "    进行动态预测的代码，用张量优化的版本\n",
    "'''\n",
    "import pandas as pd\n",
    "import numpy as np\n",
    "import matplotlib.pylab as plt\n",
    "import matplotlib.dates as mdate\n",
    "from numpy import *\n",
    "from matplotlib.pylab import rcParams\n",
    "plt.rcParams['axes.unicode_minus']=False\n",
    "rcParams['font.sans-serif'] = 'kaiti'\n",
    "\n",
    "from statsmodels.tsa.stattools import adfuller\n",
    "import statsmodels.api as sm\n",
    "import statsmodels.stats.diagnostic\n",
    "from statsmodels.tsa.api import VAR\n",
    "\n",
    "\n",
    "class gundong_tensor():\n",
    "    def __init__(self, data, gundong_time, k_lag):\n",
    "        self.row = data.shape[0] # 行长度\n",
    "        self.column = data.shape[1] # 列长度\n",
    "        self.data = data\n",
    "        self.gundong_time = gundong_time # 滚动选择的时间\n",
    "        self.k_lag = k_lag\n",
    "        self.save_data_coef = np.zeros((self.row-self.gundong_time+1, self.column, self.k_lag*self.column))\n",
    "        self.save_data_cov = np.zeros((self.row-self.gundong_time+1, self.column, self.column))\n",
    "        self.save_data_result = np.zeros((self.row-self.gundong_time+1, self.column, self.column))\n",
    "\n",
    "    def VAR(self):\n",
    "        '''\n",
    "        实现滚动计算 k-lag 的 VAR 模型\n",
    "        并且保存矩阵的系数以及相关系数矩阵\n",
    "        实现了 k-lag>1 时的向量值回归模型\n",
    "\n",
    "        '''\n",
    "        for i in range(self.gundong_time, self.row+1,1):\n",
    "            datai = self.data.iloc[i-self.gundong_time:i,:]\n",
    "            model = VAR(datai)\n",
    "            # 滞后 k_lag 个单位计算\n",
    "            results = model.fit(self.k_lag, freq=None)\n",
    "            coef = results.params\n",
    "            self.save_data_coef[i-self.gundong_time,:,:]= coef.iloc[1:1+self.k_lag*self.column,:].T\n",
    "            self.save_data_cov[i-self.gundong_time,:,:] = results.sigma_u\n",
    "\n",
    "\n",
    "    def calculate_multiply(self):\n",
    "        # 初始的 A_0,...A_{1-p}\n",
    "\n",
    "        # 第一个分块矩阵是单位阵\n",
    "        matrix_identity = np.zeros((self.k_lag*self.column, self.column))\n",
    "        matrix_identity[0:self.column,:] = np.identity(self.column)\n",
    "        matrix_identity = np.expand_dims(matrix_identity,0).repeat(self.row-self.gundong_time+1, axis=0)\n",
    "        matrix_left = np.matmul(matrix_identity, self.save_data_coef)\n",
    "        matrix_right = np.zeros((self.k_lag*self.column, self.k_lag*self.column))\n",
    "        for j in range(1,self.k_lag):\n",
    "            matrix_right[j*self.column:(j+1)*self.column, (j-1)*self.column:j*self.column] = np.identity(self.column)\n",
    "        matrix_right = np.expand_dims(matrix_right,0).repeat(self.row-self.gundong_time+1, axis=0)\n",
    "        matrix_multiply = matrix_left+matrix_right\n",
    "        return matrix_multiply\n",
    "\n",
    "\n",
    "    def cal_overflow(self, predict_time):\n",
    "        '''\n",
    "            适用于不同 k_lag 的向量自回归模型\n",
    "            \n",
    "            张量乘法运算 a*b*c 维张量 matmul a*c*d 维张量结果是 a*b*d 维张量\n",
    "\n",
    "            Args:\n",
    "                predict_time: 预测天数\n",
    "        '''\n",
    "        self.predict_time = predict_time\n",
    "        # 初始的 A_h 矩阵 \n",
    "        self.A_h = np.zeros((self.row-self.gundong_time+1, self.k_lag*self.column, self.column))\n",
    "        self.A_h[:, 0:self.column,:] = np.identity(self.column)\n",
    "        # 得到\n",
    "        matrix_multiply = self.calculate_multiply()\n",
    "        temp = np.matmul(self.A_h[:,0:self.column,:],self.save_data_cov)\n",
    "        sum_top = temp*temp\n",
    "        # 得到一个对角阵\n",
    "        sigma_jj = self.save_data_cov.diagonal(axis1=1, axis2=2)\n",
    "        sigma_jj = np.apply_along_axis(np.diag, 1, sigma_jj)\n",
    "        # A_h * cov * A_h'\n",
    "        temp_bottom = np.matmul(temp, self.A_h[:,0:self.column,:].transpose(0,2,1))\n",
    "        # 每行元素都是对角线元素\n",
    "        temp_bottom = temp_bottom.diagonal(axis1=1, axis2=2)[:,np.newaxis].transpose(0,2,1).repeat(self.column,2)\n",
    "        # * sigma_jj\n",
    "        sum_bottom = np.matmul(temp_bottom, sigma_jj)\n",
    "        for h in range(self.predict_time-1):\n",
    "            self.A_h = np.matmul(matrix_multiply, self.A_h)\n",
    "            temp = np.matmul(self.A_h[:,0:self.column,:], self.save_data_cov)\n",
    "            sum_top = sum_top + temp*temp\n",
    "            temp_bottom = np.matmul(temp, self.A_h[:,0:self.column,:].transpose(0,2,1))\n",
    "            temp_bottom = temp_bottom.diagonal(axis1=1, axis2=2)[:,np.newaxis].transpose(0,2,1).repeat(self.column,2)\n",
    "            sum_bottom = sum_bottom + np.matmul(temp_bottom, sigma_jj)\n",
    "\n",
    "        self.save_data_result = sum_top/sum_bottom\n",
    "\n",
    "        def standard_overflow(self):\n",
    "            '''\n",
    "            计算溢出指数的比重\n",
    "\n",
    "\n",
    "            '''\n",
    "            pass\n",
    "\n",
    "\n",
    "    def save_data(self, path):\n",
    "        np.save(path+'save_data_coef',self.save_data_coef)\n",
    "        np.save(path+'save_data_cov',self.save_data_cov)\n",
    "        np.save(path+'save_data_result',self.save_data_result)\n",
    "\n"
   ]
  },
  {
   "cell_type": "markdown",
   "metadata": {},
   "source": [
    "## 标准处理"
   ]
  },
  {
   "cell_type": "code",
   "execution_count": 24,
   "metadata": {},
   "outputs": [],
   "source": [
    "file_path='./now/zong.csv'\n",
    "data = pd.read_csv(file_path, index_col = 0)"
   ]
  },
  {
   "cell_type": "code",
   "execution_count": 31,
   "metadata": {},
   "outputs": [],
   "source": [
    "gundong_data = gundong_tensor(data, gundong_time=360, k_lag=2)"
   ]
  },
  {
   "cell_type": "code",
   "execution_count": 32,
   "metadata": {},
   "outputs": [
    {
     "name": "stderr",
     "output_type": "stream",
     "text": [
      "c:\\users\\asus\\appdata\\local\\programs\\python\\python37\\lib\\site-packages\\statsmodels\\tsa\\base\\tsa_model.py:583: ValueWarning: A date index has been provided, but it has no associated frequency information and so will be ignored when e.g. forecasting.\n",
      "  ' ignored when e.g. forecasting.', ValueWarning)\n"
     ]
    },
    {
     "ename": "TypeError",
     "evalue": "fit() got an unexpected keyword argument 'freq'",
     "output_type": "error",
     "traceback": [
      "\u001b[1;31m---------------------------------------------------------------------------\u001b[0m",
      "\u001b[1;31mTypeError\u001b[0m                                 Traceback (most recent call last)",
      "\u001b[1;32m<ipython-input-32-16391c4ee975>\u001b[0m in \u001b[0;36m<module>\u001b[1;34m\u001b[0m\n\u001b[1;32m----> 1\u001b[1;33m \u001b[0mgundong_data\u001b[0m\u001b[1;33m.\u001b[0m\u001b[0mVAR\u001b[0m\u001b[1;33m(\u001b[0m\u001b[1;33m)\u001b[0m\u001b[1;33m\u001b[0m\u001b[1;33m\u001b[0m\u001b[0m\n\u001b[0m",
      "\u001b[1;32m<ipython-input-30-9a53deba7d51>\u001b[0m in \u001b[0;36mVAR\u001b[1;34m(self)\u001b[0m\n\u001b[0;32m     40\u001b[0m             \u001b[0mmodel\u001b[0m \u001b[1;33m=\u001b[0m \u001b[0mVAR\u001b[0m\u001b[1;33m(\u001b[0m\u001b[0mdatai\u001b[0m\u001b[1;33m)\u001b[0m\u001b[1;33m\u001b[0m\u001b[1;33m\u001b[0m\u001b[0m\n\u001b[0;32m     41\u001b[0m             \u001b[1;31m# 滞后 k_lag 个单位计算\u001b[0m\u001b[1;33m\u001b[0m\u001b[1;33m\u001b[0m\u001b[1;33m\u001b[0m\u001b[0m\n\u001b[1;32m---> 42\u001b[1;33m             \u001b[0mresults\u001b[0m \u001b[1;33m=\u001b[0m \u001b[0mmodel\u001b[0m\u001b[1;33m.\u001b[0m\u001b[0mfit\u001b[0m\u001b[1;33m(\u001b[0m\u001b[0mself\u001b[0m\u001b[1;33m.\u001b[0m\u001b[0mk_lag\u001b[0m\u001b[1;33m,\u001b[0m \u001b[0mfreq\u001b[0m\u001b[1;33m=\u001b[0m\u001b[1;32mNone\u001b[0m\u001b[1;33m)\u001b[0m\u001b[1;33m\u001b[0m\u001b[1;33m\u001b[0m\u001b[0m\n\u001b[0m\u001b[0;32m     43\u001b[0m             \u001b[0mcoef\u001b[0m \u001b[1;33m=\u001b[0m \u001b[0mresults\u001b[0m\u001b[1;33m.\u001b[0m\u001b[0mparams\u001b[0m\u001b[1;33m\u001b[0m\u001b[1;33m\u001b[0m\u001b[0m\n\u001b[0;32m     44\u001b[0m             \u001b[0mself\u001b[0m\u001b[1;33m.\u001b[0m\u001b[0msave_data_coef\u001b[0m\u001b[1;33m[\u001b[0m\u001b[0mi\u001b[0m\u001b[1;33m-\u001b[0m\u001b[0mself\u001b[0m\u001b[1;33m.\u001b[0m\u001b[0mgundong_time\u001b[0m\u001b[1;33m,\u001b[0m\u001b[1;33m:\u001b[0m\u001b[1;33m,\u001b[0m\u001b[1;33m:\u001b[0m\u001b[1;33m]\u001b[0m\u001b[1;33m=\u001b[0m \u001b[0mcoef\u001b[0m\u001b[1;33m.\u001b[0m\u001b[0miloc\u001b[0m\u001b[1;33m[\u001b[0m\u001b[1;36m1\u001b[0m\u001b[1;33m:\u001b[0m\u001b[1;36m1\u001b[0m\u001b[1;33m+\u001b[0m\u001b[0mself\u001b[0m\u001b[1;33m.\u001b[0m\u001b[0mk_lag\u001b[0m\u001b[1;33m*\u001b[0m\u001b[0mself\u001b[0m\u001b[1;33m.\u001b[0m\u001b[0mcolumn\u001b[0m\u001b[1;33m,\u001b[0m\u001b[1;33m:\u001b[0m\u001b[1;33m]\u001b[0m\u001b[1;33m.\u001b[0m\u001b[0mT\u001b[0m\u001b[1;33m\u001b[0m\u001b[1;33m\u001b[0m\u001b[0m\n",
      "\u001b[1;31mTypeError\u001b[0m: fit() got an unexpected keyword argument 'freq'"
     ]
    }
   ],
   "source": [
    "gundong_data.VAR()"
   ]
  },
  {
   "cell_type": "code",
   "execution_count": 27,
   "metadata": {
    "scrolled": false
   },
   "outputs": [],
   "source": [
    "gundong_data.cal_overflow(predict_time=10)"
   ]
  },
  {
   "cell_type": "code",
   "execution_count": 28,
   "metadata": {},
   "outputs": [
    {
     "data": {
      "text/plain": [
       "(979, 11, 11)"
      ]
     },
     "execution_count": 28,
     "metadata": {},
     "output_type": "execute_result"
    }
   ],
   "source": [
    "gundong_data.save_data_result.shape"
   ]
  },
  {
   "cell_type": "code",
   "execution_count": 11,
   "metadata": {},
   "outputs": [
    {
     "data": {
      "text/plain": [
       "(979, 11, 11)"
      ]
     },
     "execution_count": 11,
     "metadata": {},
     "output_type": "execute_result"
    }
   ],
   "source": [
    "gundong_data.save_data_cov.shape"
   ]
  },
  {
   "cell_type": "code",
   "execution_count": null,
   "metadata": {},
   "outputs": [],
   "source": []
  },
  {
   "cell_type": "code",
   "execution_count": 14,
   "metadata": {},
   "outputs": [
    {
     "data": {
      "text/plain": [
       "(979, 22, 22)"
      ]
     },
     "execution_count": 14,
     "metadata": {},
     "output_type": "execute_result"
    }
   ],
   "source": [
    "k_lag = 2\n",
    "column = 11\n",
    "row = 1338\n",
    "gundong_time = 360\n",
    "predict_time = 10\n",
    "\n",
    "# def calculate_multiply():\n",
    "    # 初始的 A_0,...A_{1-p}\n",
    "\n",
    "    # 第一个分块矩阵是单位阵\n",
    "matrix_identity = np.zeros((k_lag*column, column))\n",
    "matrix_identity[0:column,:] = np.identity(column)\n",
    "matrix_identity = np.expand_dims(matrix_identity,0).repeat(row-gundong_time+1, axis=0)\n",
    "matrix_left = np.matmul(matrix_identity, gundong_data.save_data_coef)\n",
    "matrix_right = np.zeros((k_lag*column, k_lag*column))\n",
    "for j in range(1,k_lag):\n",
    "    matrix_right[j*column:(j+1)*column, (j-1)*column:j*column] = np.identity(column)\n",
    "matrix_right = np.expand_dims(matrix_right,0).repeat(row-gundong_time+1, axis=0)\n",
    "matrix_multiply = matrix_left+matrix_right\n",
    "    # return matrix_multiply\n",
    "\n",
    "matrix_multiply = calculate_multiply()\n",
    "matrix_multiply.shape"
   ]
  },
  {
   "cell_type": "code",
   "execution_count": 21,
   "metadata": {},
   "outputs": [],
   "source": [
    "\n",
    "\n",
    "\n",
    "# 初始的 A_h 矩阵 \n",
    "A_h = np.zeros((row-gundong_time+1, k_lag*column, column))\n",
    "A_h[:,0:column,:] = np.identity(column)\n",
    "# 得到\n",
    "\n",
    "temp = np.matmul(A_h[:,0:column,:],gundong_data.save_data_cov)\n",
    "sum_top = temp*temp\n",
    "# 得到一个对角阵\n",
    "sigma_jj = gundong_data.save_data_cov.diagonal(axis1=1, axis2=2)\n",
    "sigma_jj = np.apply_along_axis(np.diag, 1, sigma_jj)\n",
    "# A_h * cov * A_h'\n",
    "temp_bottom = np.matmul(temp, A_h[:,0:column,:].transpose(0,2,1))\n",
    "# 每行元素都是对角线元素\n",
    "# ?\n",
    "temp_bottom = temp_bottom.diagonal(axis1=1, axis2=2)[:,np.newaxis].transpose(0,2,1).repeat(column,2)\n",
    "# * sigma_jj\n",
    "sum_bottom = np.matmul(temp_bottom, sigma_jj)\n",
    "for h in range(predict_time-1):\n",
    "    A_h = np.matmul(matrix_multiply, A_h)\n",
    "    temp = np.matmul(A_h[:,0:column,:], gundong_data.save_data_cov)\n",
    "    sum_top = sum_top + temp*temp\n",
    "    temp_bottom = np.matmul(temp, A_h[:,0:column,:].transpose(0,2,1))\n",
    "    temp_bottom = temp_bottom.diagonal(axis1=1, axis2=2)[:,np.newaxis].transpose(0,2,1).repeat(column,2)\n",
    "    sum_bottom = sum_bottom + np.matmul(temp_bottom, sigma_jj)\n",
    "\n",
    "save_data_result = sum_top/sum_bottom"
   ]
  },
  {
   "cell_type": "code",
   "execution_count": 17,
   "metadata": {},
   "outputs": [
    {
     "data": {
      "text/plain": [
       "array([[[ 0,  1],\n",
       "        [ 2,  3]],\n",
       "\n",
       "       [[ 4,  5],\n",
       "        [ 6,  7]],\n",
       "\n",
       "       [[ 8,  9],\n",
       "        [10, 11]]])"
      ]
     },
     "execution_count": 17,
     "metadata": {},
     "output_type": "execute_result"
    }
   ],
   "source": [
    "temp = np.arange(12).reshape(3,2,2)\n",
    "temp"
   ]
  },
  {
   "cell_type": "code",
   "execution_count": 18,
   "metadata": {},
   "outputs": [
    {
     "data": {
      "text/plain": [
       "array([[[ 0,  0,  0,  0,  0],\n",
       "        [ 3,  3,  3,  3,  3]],\n",
       "\n",
       "       [[ 4,  4,  4,  4,  4],\n",
       "        [ 7,  7,  7,  7,  7]],\n",
       "\n",
       "       [[ 8,  8,  8,  8,  8],\n",
       "        [11, 11, 11, 11, 11]]])"
      ]
     },
     "execution_count": 18,
     "metadata": {},
     "output_type": "execute_result"
    }
   ],
   "source": [
    "temp.diagonal(axis1=1,axis2=2)[:,np.newaxis].transpose(0,2,1).repeat(5,2)"
   ]
  },
  {
   "cell_type": "code",
   "execution_count": null,
   "metadata": {},
   "outputs": [],
   "source": []
  }
 ],
 "metadata": {
  "kernelspec": {
   "display_name": "Python 3",
   "language": "python",
   "name": "python3"
  },
  "language_info": {
   "codemirror_mode": {
    "name": "ipython",
    "version": 3
   },
   "file_extension": ".py",
   "mimetype": "text/x-python",
   "name": "python",
   "nbconvert_exporter": "python",
   "pygments_lexer": "ipython3",
   "version": "3.7.8"
  }
 },
 "nbformat": 4,
 "nbformat_minor": 4
}
